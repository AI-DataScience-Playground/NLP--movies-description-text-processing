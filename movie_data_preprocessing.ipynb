{
 "cells": [
  {
   "cell_type": "code",
   "execution_count": 36,
   "id": "8fe8602c-13fa-4ae7-bb0d-20af2ec286b1",
   "metadata": {},
   "outputs": [],
   "source": [
    "import requests as req\n",
    "import pandas as pd"
   ]
  },
  {
   "cell_type": "code",
   "execution_count": 57,
   "id": "e3e9781e-aae1-462b-a376-cddc03087f4c",
   "metadata": {},
   "outputs": [
    {
     "name": "stdout",
     "output_type": "stream",
     "text": [
      "complete!\n"
     ]
    }
   ],
   "source": [
    "# fetch movies names descriptions and genres from given api\n",
    "\n",
    "movies_df = pd.DataFrame()\n",
    "\n",
    "url = \"https://api.themoviedb.org/3/movie/top_rated?api_key=8265bd1679663a7ea12ac168da84d2e8&language=en-US&page=\"\n",
    "total_pages = 100\n",
    "movies_data = []\n",
    "\n",
    "for p in range(1, total_pages+1):\n",
    "    final_url = url + str(p)\n",
    "    res = req.get(final_url)\n",
    "    if(res.status_code==200):\n",
    "        data = res.json()\n",
    "        movies_data.extend(data['results'])\n",
    "\n",
    "print('complete!')"
   ]
  },
  {
   "cell_type": "code",
   "execution_count": 58,
   "id": "f1999c45-f899-46ee-99b5-24a982c2b2e2",
   "metadata": {},
   "outputs": [
    {
     "name": "stdout",
     "output_type": "stream",
     "text": [
      "{28: 'Action', 12: 'Adventure', 16: 'Animation', 35: 'Comedy', 80: 'Crime', 99: 'Documentary', 18: 'Drama', 10751: 'Family', 14: 'Fantasy', 36: 'History', 27: 'Horror', 10402: 'Music', 9648: 'Mystery', 10749: 'Romance', 878: 'Science Fiction', 10770: 'TV Movie', 53: 'Thriller', 10752: 'War', 37: 'Western'}\n",
      "complete!\n"
     ]
    }
   ],
   "source": [
    "# fetch genres against their id from the given api\n",
    "\n",
    "genres_dict = {}\n",
    "\n",
    "url = \"https://api.themoviedb.org/3/genre/movie/list?api_key=8265bd1679663a7ea12ac168da84d2e8&language=en-US\"\n",
    "\n",
    "res = req.get(url)\n",
    "if(res.status_code == 200):\n",
    "    data = res.json()\n",
    "    genres_dict = {genre['id']: genre['name'] for genre in data['genres']}\n",
    "    print(genres_dict)\n",
    "\n",
    "print('complete!')"
   ]
  },
  {
   "cell_type": "code",
   "execution_count": 59,
   "id": "b44077d5-4b22-4ebb-961c-9deb973832b6",
   "metadata": {},
   "outputs": [
    {
     "data": {
      "text/html": [
       "<div>\n",
       "<style scoped>\n",
       "    .dataframe tbody tr th:only-of-type {\n",
       "        vertical-align: middle;\n",
       "    }\n",
       "\n",
       "    .dataframe tbody tr th {\n",
       "        vertical-align: top;\n",
       "    }\n",
       "\n",
       "    .dataframe thead th {\n",
       "        text-align: right;\n",
       "    }\n",
       "</style>\n",
       "<table border=\"1\" class=\"dataframe\">\n",
       "  <thead>\n",
       "    <tr style=\"text-align: right;\">\n",
       "      <th></th>\n",
       "      <th>title</th>\n",
       "      <th>genre_ids</th>\n",
       "      <th>overview</th>\n",
       "    </tr>\n",
       "  </thead>\n",
       "  <tbody>\n",
       "    <tr>\n",
       "      <th>0</th>\n",
       "      <td>The Shawshank Redemption</td>\n",
       "      <td>[18, 80]</td>\n",
       "      <td>Imprisoned in the 1940s for the double murder ...</td>\n",
       "    </tr>\n",
       "    <tr>\n",
       "      <th>1</th>\n",
       "      <td>The Godfather</td>\n",
       "      <td>[18, 80]</td>\n",
       "      <td>Spanning the years 1945 to 1955, a chronicle o...</td>\n",
       "    </tr>\n",
       "    <tr>\n",
       "      <th>2</th>\n",
       "      <td>The Godfather Part II</td>\n",
       "      <td>[18, 80]</td>\n",
       "      <td>In the continuing saga of the Corleone crime f...</td>\n",
       "    </tr>\n",
       "    <tr>\n",
       "      <th>3</th>\n",
       "      <td>Schindler's List</td>\n",
       "      <td>[18, 36, 10752]</td>\n",
       "      <td>The true story of how businessman Oskar Schind...</td>\n",
       "    </tr>\n",
       "    <tr>\n",
       "      <th>4</th>\n",
       "      <td>12 Angry Men</td>\n",
       "      <td>[18]</td>\n",
       "      <td>The defense and the prosecution have rested an...</td>\n",
       "    </tr>\n",
       "  </tbody>\n",
       "</table>\n",
       "</div>"
      ],
      "text/plain": [
       "                      title        genre_ids  \\\n",
       "0  The Shawshank Redemption         [18, 80]   \n",
       "1             The Godfather         [18, 80]   \n",
       "2     The Godfather Part II         [18, 80]   \n",
       "3          Schindler's List  [18, 36, 10752]   \n",
       "4              12 Angry Men             [18]   \n",
       "\n",
       "                                            overview  \n",
       "0  Imprisoned in the 1940s for the double murder ...  \n",
       "1  Spanning the years 1945 to 1955, a chronicle o...  \n",
       "2  In the continuing saga of the Corleone crime f...  \n",
       "3  The true story of how businessman Oskar Schind...  \n",
       "4  The defense and the prosecution have rested an...  "
      ]
     },
     "execution_count": 59,
     "metadata": {},
     "output_type": "execute_result"
    }
   ],
   "source": [
    "# convert json data into pandas datafram ad show first 5 rows\n",
    "\n",
    "movies_df = pd.DataFrame(movies_data)\n",
    "movies_df = movies_df[['title', 'genre_ids', 'overview']]\n",
    "movies_df.head()"
   ]
  },
  {
   "cell_type": "code",
   "execution_count": 63,
   "id": "080b2036-162c-4dac-84c3-036d0ccda8ea",
   "metadata": {},
   "outputs": [
    {
     "data": {
      "text/html": [
       "<div>\n",
       "<style scoped>\n",
       "    .dataframe tbody tr th:only-of-type {\n",
       "        vertical-align: middle;\n",
       "    }\n",
       "\n",
       "    .dataframe tbody tr th {\n",
       "        vertical-align: top;\n",
       "    }\n",
       "\n",
       "    .dataframe thead th {\n",
       "        text-align: right;\n",
       "    }\n",
       "</style>\n",
       "<table border=\"1\" class=\"dataframe\">\n",
       "  <thead>\n",
       "    <tr style=\"text-align: right;\">\n",
       "      <th></th>\n",
       "      <th>title</th>\n",
       "      <th>overview</th>\n",
       "      <th>genres</th>\n",
       "    </tr>\n",
       "  </thead>\n",
       "  <tbody>\n",
       "    <tr>\n",
       "      <th>0</th>\n",
       "      <td>The Shawshank Redemption</td>\n",
       "      <td>Imprisoned in the 1940s for the double murder ...</td>\n",
       "      <td>[Drama, Crime]</td>\n",
       "    </tr>\n",
       "    <tr>\n",
       "      <th>1</th>\n",
       "      <td>The Godfather</td>\n",
       "      <td>Spanning the years 1945 to 1955, a chronicle o...</td>\n",
       "      <td>[Drama, Crime]</td>\n",
       "    </tr>\n",
       "    <tr>\n",
       "      <th>2</th>\n",
       "      <td>The Godfather Part II</td>\n",
       "      <td>In the continuing saga of the Corleone crime f...</td>\n",
       "      <td>[Drama, Crime]</td>\n",
       "    </tr>\n",
       "    <tr>\n",
       "      <th>3</th>\n",
       "      <td>Schindler's List</td>\n",
       "      <td>The true story of how businessman Oskar Schind...</td>\n",
       "      <td>[Drama, History, War]</td>\n",
       "    </tr>\n",
       "    <tr>\n",
       "      <th>4</th>\n",
       "      <td>12 Angry Men</td>\n",
       "      <td>The defense and the prosecution have rested an...</td>\n",
       "      <td>[Drama]</td>\n",
       "    </tr>\n",
       "  </tbody>\n",
       "</table>\n",
       "</div>"
      ],
      "text/plain": [
       "                      title  \\\n",
       "0  The Shawshank Redemption   \n",
       "1             The Godfather   \n",
       "2     The Godfather Part II   \n",
       "3          Schindler's List   \n",
       "4              12 Angry Men   \n",
       "\n",
       "                                            overview                 genres  \n",
       "0  Imprisoned in the 1940s for the double murder ...         [Drama, Crime]  \n",
       "1  Spanning the years 1945 to 1955, a chronicle o...         [Drama, Crime]  \n",
       "2  In the continuing saga of the Corleone crime f...         [Drama, Crime]  \n",
       "3  The true story of how businessman Oskar Schind...  [Drama, History, War]  \n",
       "4  The defense and the prosecution have rested an...                [Drama]  "
      ]
     },
     "execution_count": 63,
     "metadata": {},
     "output_type": "execute_result"
    }
   ],
   "source": [
    "# add new column of genre names by matching genre_ids from the fetched genres dictionary\n",
    "\n",
    "movies_df['genres'] = movies_df['genre_ids'].apply(lambda ids: [genres_dict[i] for i in ids])\n",
    "movies_df = movies_df.drop(columns = ['genre_ids'])\n",
    "movies_df.head()"
   ]
  },
  {
   "cell_type": "code",
   "execution_count": null,
   "id": "7bf1ab3a-3cc7-40e4-be43-3b2a08c833eb",
   "metadata": {},
   "outputs": [],
   "source": []
  }
 ],
 "metadata": {
  "kernelspec": {
   "display_name": "Python 3 (ipykernel)",
   "language": "python",
   "name": "python3"
  },
  "language_info": {
   "codemirror_mode": {
    "name": "ipython",
    "version": 3
   },
   "file_extension": ".py",
   "mimetype": "text/x-python",
   "name": "python",
   "nbconvert_exporter": "python",
   "pygments_lexer": "ipython3",
   "version": "3.12.3"
  }
 },
 "nbformat": 4,
 "nbformat_minor": 5
}
